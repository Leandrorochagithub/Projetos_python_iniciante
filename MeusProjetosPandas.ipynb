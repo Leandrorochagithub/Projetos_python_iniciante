{
 "cells": [
  {
   "cell_type": "markdown",
   "id": "53061091",
   "metadata": {},
   "source": [
    "1. Importando arquivo delimitado por ;\n",
    "2. Definindo cabeçalho\n",
    "3. Dividindo colunas 'Valor' por 100\n",
    "4. Definindo nova ordem das colunas\n",
    "5. Exportando em txt sem cabeçalho\n",
    "6. Exportando em Excel com cabeçalho"
   ]
  },
  {
   "cell_type": "code",
   "execution_count": 10,
   "id": "c20c67e1",
   "metadata": {},
   "outputs": [],
   "source": [
    "import pandas as pd\n",
    "import openpyxl\n",
    "from openpyxl.styles import numbers\n",
    "from openpyxl import load_workbook\n",
    "\n",
    "colunas = ['CodEan','CodInterno','Produto','Quantidade','Valor','Categoria']\n",
    "\n",
    "arqCadProd = pd.read_csv(r'C:\\Users\\Leandro\\Documents\\Python\\Arquivo Pandas\\dataset p2\\Cadastro_delimitado.txt', sep=';', encoding='latin1', header=None,names=colunas,\n",
    "dtype= {\n",
    "    'CodEan': int,\n",
    "    'CodInterno': int,\n",
    "    'Produto': str,\n",
    "    'Quantidade': int,\n",
    "    'Valor': int,\n",
    "    'Categoria': str\n",
    "})\n",
    "arqCadProd['Valor'] = arqCadProd['Valor']/100\n",
    "arqCadProd['CodEan'] = arqCadProd['CodEan'].astype(int)\n",
    "\n",
    "nova_ordem_colunas = ['CodEan','CodInterno','Produto','Categoria','Valor','Quantidade']\n",
    "\n",
    "arqCadProd = arqCadProd[nova_ordem_colunas]\n",
    "# arqCadProd[(arqCadProd['Valor'] > 0) & (arqCadProd['Quantidade'] > 0)].head(30)\n",
    "arqCadProd.head(15)\n",
    "\n",
    "arqCadProd.to_excel(r'C:\\Users\\Leandro\\Documents\\Python\\Arquivo Pandas\\dataset p2\\Cadastro_delimitado_2.xlsx', index=False, sheet_name='Cadastro')\n",
    "\n",
    "arqCadProd.to_csv(r'C:\\Users\\Leandro\\Documents\\Python\\Arquivo Pandas\\dataset p2\\Cadastro_delimitado_2.txt', sep=';', index=False, encoding='utf-8', header=False)"
   ]
  }
 ],
 "metadata": {
  "kernelspec": {
   "display_name": "Python 3",
   "language": "python",
   "name": "python3"
  },
  "language_info": {
   "codemirror_mode": {
    "name": "ipython",
    "version": 3
   },
   "file_extension": ".py",
   "mimetype": "text/x-python",
   "name": "python",
   "nbconvert_exporter": "python",
   "pygments_lexer": "ipython3",
   "version": "3.13.5"
  }
 },
 "nbformat": 4,
 "nbformat_minor": 5
}
