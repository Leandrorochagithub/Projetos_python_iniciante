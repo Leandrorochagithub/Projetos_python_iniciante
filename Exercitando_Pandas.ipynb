{
 "cells": [
  {
   "cell_type": "markdown",
   "id": "a975405a",
   "metadata": {},
   "source": [
    "1) Importe os dados e verifique as primeiras linhas do dataset **insurance.csv**. Verifique também as últimas linhas do dataset."
   ]
  },
  {
   "cell_type": "code",
   "execution_count": 3,
   "id": "4dfc5aeb",
   "metadata": {},
   "outputs": [],
   "source": [
    "import pandas as pd\n",
    "import numpy as np\n",
    "dataset1 = pd.read_csv(r\"G:\\My Drive\\1. Pessoal\\Estudos\\Python\\Universidade_Dados\\Pandas\\Pandas_p1\\dataset p1\\insurance.csv\")"
   ]
  },
  {
   "cell_type": "code",
   "execution_count": null,
   "id": "545b57f8",
   "metadata": {},
   "outputs": [
    {
     "data": {
      "text/html": [
       "<div>\n",
       "<style scoped>\n",
       "    .dataframe tbody tr th:only-of-type {\n",
       "        vertical-align: middle;\n",
       "    }\n",
       "\n",
       "    .dataframe tbody tr th {\n",
       "        vertical-align: top;\n",
       "    }\n",
       "\n",
       "    .dataframe thead th {\n",
       "        text-align: right;\n",
       "    }\n",
       "</style>\n",
       "<table border=\"1\" class=\"dataframe\">\n",
       "  <thead>\n",
       "    <tr style=\"text-align: right;\">\n",
       "      <th></th>\n",
       "      <th>age</th>\n",
       "      <th>sex</th>\n",
       "      <th>bmi</th>\n",
       "      <th>children</th>\n",
       "      <th>smoker</th>\n",
       "      <th>region</th>\n",
       "      <th>charges</th>\n",
       "    </tr>\n",
       "  </thead>\n",
       "  <tbody>\n",
       "    <tr>\n",
       "      <th>1333</th>\n",
       "      <td>50</td>\n",
       "      <td>male</td>\n",
       "      <td>30.97</td>\n",
       "      <td>3</td>\n",
       "      <td>no</td>\n",
       "      <td>northwest</td>\n",
       "      <td>10600.5483</td>\n",
       "    </tr>\n",
       "    <tr>\n",
       "      <th>1334</th>\n",
       "      <td>18</td>\n",
       "      <td>female</td>\n",
       "      <td>31.92</td>\n",
       "      <td>0</td>\n",
       "      <td>no</td>\n",
       "      <td>northeast</td>\n",
       "      <td>2205.9808</td>\n",
       "    </tr>\n",
       "    <tr>\n",
       "      <th>1335</th>\n",
       "      <td>18</td>\n",
       "      <td>female</td>\n",
       "      <td>36.85</td>\n",
       "      <td>0</td>\n",
       "      <td>no</td>\n",
       "      <td>southeast</td>\n",
       "      <td>1629.8335</td>\n",
       "    </tr>\n",
       "    <tr>\n",
       "      <th>1336</th>\n",
       "      <td>21</td>\n",
       "      <td>female</td>\n",
       "      <td>25.80</td>\n",
       "      <td>0</td>\n",
       "      <td>no</td>\n",
       "      <td>southwest</td>\n",
       "      <td>2007.9450</td>\n",
       "    </tr>\n",
       "    <tr>\n",
       "      <th>1337</th>\n",
       "      <td>61</td>\n",
       "      <td>female</td>\n",
       "      <td>29.07</td>\n",
       "      <td>0</td>\n",
       "      <td>yes</td>\n",
       "      <td>northwest</td>\n",
       "      <td>29141.3603</td>\n",
       "    </tr>\n",
       "  </tbody>\n",
       "</table>\n",
       "</div>"
      ],
      "text/plain": [
       "      age     sex    bmi  children smoker     region     charges\n",
       "1333   50    male  30.97         3     no  northwest  10600.5483\n",
       "1334   18  female  31.92         0     no  northeast   2205.9808\n",
       "1335   18  female  36.85         0     no  southeast   1629.8335\n",
       "1336   21  female  25.80         0     no  southwest   2007.9450\n",
       "1337   61  female  29.07         0    yes  northwest  29141.3603"
      ]
     },
     "execution_count": 3,
     "metadata": {},
     "output_type": "execute_result"
    }
   ],
   "source": [
    "dataset1.head() # Primeiras\n",
    "dataset1.tail() # últimas"
   ]
  },
  {
   "cell_type": "markdown",
   "id": "71f193b2",
   "metadata": {},
   "source": [
    "2) Verifique se existe algum valor missing no dataset."
   ]
  },
  {
   "cell_type": "code",
   "execution_count": null,
   "id": "e45a35de",
   "metadata": {},
   "outputs": [
    {
     "data": {
      "text/plain": [
       "age         0\n",
       "sex         0\n",
       "bmi         0\n",
       "children    0\n",
       "smoker      0\n",
       "region      0\n",
       "charges     0\n",
       "dtype: int64"
      ]
     },
     "execution_count": 8,
     "metadata": {},
     "output_type": "execute_result"
    }
   ],
   "source": [
    "dataset1.isnull().sum() # Somando valores nulos (zero)"
   ]
  },
  {
   "cell_type": "markdown",
   "id": "ab346ae4",
   "metadata": {},
   "source": [
    "3) Quanto de memória o dataset está consumindo?"
   ]
  },
  {
   "cell_type": "code",
   "execution_count": null,
   "id": "0931670a",
   "metadata": {},
   "outputs": [
    {
     "data": {
      "text/plain": [
       "np.int64(75060)"
      ]
     },
     "execution_count": 9,
     "metadata": {},
     "output_type": "execute_result"
    }
   ],
   "source": [
    "dataset1.memory_usage(deep=True) # Por coluna\n",
    "dataset1.memory_usage().sum() # Total"
   ]
  },
  {
   "cell_type": "markdown",
   "id": "64601845",
   "metadata": {},
   "source": [
    "4) Gere as estatísticas descritivas das colunas numéricas do dataset. Qual a mediana da coluna BMI? E a média? Qual desses valores é maior? O que isso significa?"
   ]
  },
  {
   "cell_type": "code",
   "execution_count": null,
   "id": "e2c27d7a",
   "metadata": {},
   "outputs": [
    {
     "data": {
      "text/html": [
       "<div>\n",
       "<style scoped>\n",
       "    .dataframe tbody tr th:only-of-type {\n",
       "        vertical-align: middle;\n",
       "    }\n",
       "\n",
       "    .dataframe tbody tr th {\n",
       "        vertical-align: top;\n",
       "    }\n",
       "\n",
       "    .dataframe thead th {\n",
       "        text-align: right;\n",
       "    }\n",
       "</style>\n",
       "<table border=\"1\" class=\"dataframe\">\n",
       "  <thead>\n",
       "    <tr style=\"text-align: right;\">\n",
       "      <th></th>\n",
       "      <th>age</th>\n",
       "      <th>bmi</th>\n",
       "      <th>children</th>\n",
       "      <th>charges</th>\n",
       "    </tr>\n",
       "  </thead>\n",
       "  <tbody>\n",
       "    <tr>\n",
       "      <th>count</th>\n",
       "      <td>1338.000000</td>\n",
       "      <td>1338.000000</td>\n",
       "      <td>1338.000000</td>\n",
       "      <td>1338.000000</td>\n",
       "    </tr>\n",
       "    <tr>\n",
       "      <th>mean</th>\n",
       "      <td>39.207025</td>\n",
       "      <td>30.663397</td>\n",
       "      <td>1.094918</td>\n",
       "      <td>13270.422265</td>\n",
       "    </tr>\n",
       "    <tr>\n",
       "      <th>std</th>\n",
       "      <td>14.049960</td>\n",
       "      <td>6.098187</td>\n",
       "      <td>1.205493</td>\n",
       "      <td>12110.011237</td>\n",
       "    </tr>\n",
       "    <tr>\n",
       "      <th>min</th>\n",
       "      <td>18.000000</td>\n",
       "      <td>15.960000</td>\n",
       "      <td>0.000000</td>\n",
       "      <td>1121.873900</td>\n",
       "    </tr>\n",
       "    <tr>\n",
       "      <th>25%</th>\n",
       "      <td>27.000000</td>\n",
       "      <td>26.296250</td>\n",
       "      <td>0.000000</td>\n",
       "      <td>4740.287150</td>\n",
       "    </tr>\n",
       "    <tr>\n",
       "      <th>50%</th>\n",
       "      <td>39.000000</td>\n",
       "      <td>30.400000</td>\n",
       "      <td>1.000000</td>\n",
       "      <td>9382.033000</td>\n",
       "    </tr>\n",
       "    <tr>\n",
       "      <th>75%</th>\n",
       "      <td>51.000000</td>\n",
       "      <td>34.693750</td>\n",
       "      <td>2.000000</td>\n",
       "      <td>16639.912515</td>\n",
       "    </tr>\n",
       "    <tr>\n",
       "      <th>max</th>\n",
       "      <td>64.000000</td>\n",
       "      <td>53.130000</td>\n",
       "      <td>5.000000</td>\n",
       "      <td>63770.428010</td>\n",
       "    </tr>\n",
       "  </tbody>\n",
       "</table>\n",
       "</div>"
      ],
      "text/plain": [
       "               age          bmi     children       charges\n",
       "count  1338.000000  1338.000000  1338.000000   1338.000000\n",
       "mean     39.207025    30.663397     1.094918  13270.422265\n",
       "std      14.049960     6.098187     1.205493  12110.011237\n",
       "min      18.000000    15.960000     0.000000   1121.873900\n",
       "25%      27.000000    26.296250     0.000000   4740.287150\n",
       "50%      39.000000    30.400000     1.000000   9382.033000\n",
       "75%      51.000000    34.693750     2.000000  16639.912515\n",
       "max      64.000000    53.130000     5.000000  63770.428010"
      ]
     },
     "execution_count": 8,
     "metadata": {},
     "output_type": "execute_result"
    }
   ],
   "source": [
    "dataset1.describe() # A média (30.66) é maior que a mediana (Q2/50%-30.40). Isso significa que valores altos elevam a média (Assimetria positiva), possível outlier."
   ]
  },
  {
   "cell_type": "markdown",
   "id": "92c01e07",
   "metadata": {},
   "source": [
    "5) Qual a proporção de fumantes no nosso dataset? E de não fumantes?"
   ]
  },
  {
   "cell_type": "code",
   "execution_count": 14,
   "id": "268d687b",
   "metadata": {},
   "outputs": [
    {
     "data": {
      "text/plain": [
       "smoker\n",
       "no     79.52%\n",
       "yes    20.48%\n",
       "Name: proportion, dtype: object"
      ]
     },
     "execution_count": 14,
     "metadata": {},
     "output_type": "execute_result"
    }
   ],
   "source": [
    "dataset1['smoker'].value_counts(normalize=True).map('{:.2%}'.format)"
   ]
  },
  {
   "cell_type": "markdown",
   "id": "9e925cdb",
   "metadata": {},
   "source": [
    "6) Existe alguma diferença na cobrança para fumantes e não fumantes?"
   ]
  },
  {
   "cell_type": "code",
   "execution_count": 5,
   "id": "a4d575c2",
   "metadata": {},
   "outputs": [
    {
     "data": {
      "text/plain": [
       "smoker\n",
       "no     8,974,061.47\n",
       "yes    8,781,763.52\n",
       "Name: charges, dtype: object"
      ]
     },
     "execution_count": 5,
     "metadata": {},
     "output_type": "execute_result"
    }
   ],
   "source": [
    "dataset1.groupby(['smoker'])['charges'].sum().map('{:,.2f}'.format)"
   ]
  },
  {
   "cell_type": "markdown",
   "id": "aa2fcdf2",
   "metadata": {},
   "source": [
    "7) Qual a média de BMI para fumantes?"
   ]
  },
  {
   "cell_type": "code",
   "execution_count": 28,
   "id": "60a5363a",
   "metadata": {},
   "outputs": [
    {
     "data": {
      "text/plain": [
       "smoker\n",
       "no     30.651795\n",
       "yes    30.708449\n",
       "Name: bmi, dtype: float64"
      ]
     },
     "execution_count": 28,
     "metadata": {},
     "output_type": "execute_result"
    }
   ],
   "source": [
    "dataset1.groupby(['smoker'])['bmi'].mean()"
   ]
  },
  {
   "cell_type": "markdown",
   "id": "9916b8a8",
   "metadata": {},
   "source": [
    "8) Existe alguma diferença de cobrança para quem tem filhos? Identifique se ter filhos parece acarretar numa cobrança maior olhando a média de charges para quem tem 0 filhos e a média para quem tem 1 ou mais filhos."
   ]
  },
  {
   "cell_type": "code",
   "execution_count": null,
   "id": "f5c41dcd",
   "metadata": {},
   "outputs": [],
   "source": [
    "# Criando coluna para identificar quem tem filhos e quem não tem filhos\n",
    "dataset1['temFilho'] = np.where(\n",
    "    dataset1['children'] > 0,\n",
    "    'sim',\n",
    "    'nao'\n",
    ")"
   ]
  },
  {
   "cell_type": "code",
   "execution_count": null,
   "id": "3ba652e3",
   "metadata": {},
   "outputs": [
    {
     "data": {
      "text/plain": [
       "temFilho\n",
       "nao    R$12,365.98\n",
       "sim    R$13,949.94\n",
       "Name: charges, dtype: object"
      ]
     },
     "execution_count": 74,
     "metadata": {},
     "output_type": "execute_result"
    }
   ],
   "source": [
    "# Gerando valores\n",
    "dataset1.groupby(['temFilho'])['charges'].mean().map('R${:,.2f}'.format)"
   ]
  },
  {
   "cell_type": "code",
   "execution_count": 52,
   "id": "6e40eaf7",
   "metadata": {},
   "outputs": [
    {
     "data": {
      "text/html": [
       "<div>\n",
       "<style scoped>\n",
       "    .dataframe tbody tr th:only-of-type {\n",
       "        vertical-align: middle;\n",
       "    }\n",
       "\n",
       "    .dataframe tbody tr th {\n",
       "        vertical-align: top;\n",
       "    }\n",
       "\n",
       "    .dataframe thead th {\n",
       "        text-align: right;\n",
       "    }\n",
       "</style>\n",
       "<table border=\"1\" class=\"dataframe\">\n",
       "  <thead>\n",
       "    <tr style=\"text-align: right;\">\n",
       "      <th></th>\n",
       "      <th>age</th>\n",
       "      <th>sex</th>\n",
       "      <th>bmi</th>\n",
       "      <th>children</th>\n",
       "      <th>smoker</th>\n",
       "      <th>region</th>\n",
       "      <th>charges</th>\n",
       "      <th>temFilho</th>\n",
       "    </tr>\n",
       "  </thead>\n",
       "  <tbody>\n",
       "    <tr>\n",
       "      <th>0</th>\n",
       "      <td>19</td>\n",
       "      <td>female</td>\n",
       "      <td>27.900</td>\n",
       "      <td>0</td>\n",
       "      <td>yes</td>\n",
       "      <td>southwest</td>\n",
       "      <td>16884.92400</td>\n",
       "      <td>nao</td>\n",
       "    </tr>\n",
       "    <tr>\n",
       "      <th>1</th>\n",
       "      <td>18</td>\n",
       "      <td>male</td>\n",
       "      <td>33.770</td>\n",
       "      <td>1</td>\n",
       "      <td>no</td>\n",
       "      <td>southeast</td>\n",
       "      <td>1725.55230</td>\n",
       "      <td>sim</td>\n",
       "    </tr>\n",
       "    <tr>\n",
       "      <th>2</th>\n",
       "      <td>28</td>\n",
       "      <td>male</td>\n",
       "      <td>33.000</td>\n",
       "      <td>3</td>\n",
       "      <td>no</td>\n",
       "      <td>southeast</td>\n",
       "      <td>4449.46200</td>\n",
       "      <td>sim</td>\n",
       "    </tr>\n",
       "    <tr>\n",
       "      <th>3</th>\n",
       "      <td>33</td>\n",
       "      <td>male</td>\n",
       "      <td>22.705</td>\n",
       "      <td>0</td>\n",
       "      <td>no</td>\n",
       "      <td>northwest</td>\n",
       "      <td>21984.47061</td>\n",
       "      <td>nao</td>\n",
       "    </tr>\n",
       "    <tr>\n",
       "      <th>4</th>\n",
       "      <td>32</td>\n",
       "      <td>male</td>\n",
       "      <td>28.880</td>\n",
       "      <td>0</td>\n",
       "      <td>no</td>\n",
       "      <td>northwest</td>\n",
       "      <td>3866.85520</td>\n",
       "      <td>nao</td>\n",
       "    </tr>\n",
       "  </tbody>\n",
       "</table>\n",
       "</div>"
      ],
      "text/plain": [
       "   age     sex     bmi  children smoker     region      charges temFilho\n",
       "0   19  female  27.900         0    yes  southwest  16884.92400      nao\n",
       "1   18    male  33.770         1     no  southeast   1725.55230      sim\n",
       "2   28    male  33.000         3     no  southeast   4449.46200      sim\n",
       "3   33    male  22.705         0     no  northwest  21984.47061      nao\n",
       "4   32    male  28.880         0     no  northwest   3866.85520      nao"
      ]
     },
     "execution_count": 52,
     "metadata": {},
     "output_type": "execute_result"
    }
   ],
   "source": [
    "dataset1.head()"
   ]
  },
  {
   "cell_type": "markdown",
   "id": "f60a2323",
   "metadata": {},
   "source": [
    "9) Para o homem, o BMI de 20 a 24,9 é considerado normal. Acima disso, é considerado acima do peso, abaixo é considerado abaixo do peso. Crie uma nova coluna, chamada \"bmi_male\" que receberá o texto \"abaixo do normal\" para BMI abaixo de 20, \"normal\" para BMI de 20 a 24,9 e \"acima do normal\" para BMI acima de 24,9."
   ]
  },
  {
   "cell_type": "code",
   "execution_count": 5,
   "id": "4a48f6be",
   "metadata": {},
   "outputs": [],
   "source": [
    "dataset1['bmi_male'] = np.where(\n",
    "    dataset1['sex'] == 'male',\n",
    "    np.where(\n",
    "        dataset1['bmi'] < 20, 'abaixo do normal',\n",
    "        np.where(\n",
    "            dataset1['bmi'] <= 24.9, 'normal',\n",
    "            'acima do normal'\n",
    "        )\n",
    "    ),\n",
    "    ''\n",
    ")"
   ]
  },
  {
   "cell_type": "code",
   "execution_count": 6,
   "id": "e8410720",
   "metadata": {},
   "outputs": [
    {
     "data": {
      "text/plain": [
       "bmi_male\n",
       "                    49.48%\n",
       "acima do normal     42.00%\n",
       "normal               7.10%\n",
       "abaixo do normal     1.42%\n",
       "Name: proportion, dtype: object"
      ]
     },
     "execution_count": 6,
     "metadata": {},
     "output_type": "execute_result"
    }
   ],
   "source": [
    "dataset1['bmi_male'].value_counts(normalize=True).map('{:.2%}'.format)"
   ]
  },
  {
   "cell_type": "markdown",
   "id": "f6734a49",
   "metadata": {},
   "source": [
    "10) Se uma homem é fumante e ainda tem um BMI acima do considerado normal, é possível que isso seja um indicador negativo para a seguradora. Quantos homens estão nessa situação?"
   ]
  },
  {
   "cell_type": "code",
   "execution_count": null,
   "id": "7ab427d7",
   "metadata": {},
   "outputs": [
    {
     "data": {
      "text/plain": [
       "562"
      ]
     },
     "execution_count": 7,
     "metadata": {},
     "output_type": "execute_result"
    }
   ],
   "source": [
    "dataset1['bmi_male'].value_counts().loc['acima do normal']\n",
    "dataset1[dataset1['bmi_male'] == 'acima do normal'].shape[0]"
   ]
  },
  {
   "cell_type": "markdown",
   "id": "4c98db67",
   "metadata": {},
   "source": [
    "11) Carregue o dataset **amazon.csv** e crie uma mensagem ao leitor do notebook falando quantas linhas e colunas possui o DataFrame."
   ]
  },
  {
   "cell_type": "code",
   "execution_count": 6,
   "id": "ba1ead17",
   "metadata": {},
   "outputs": [
    {
     "data": {
      "text/html": [
       "<div>\n",
       "<style scoped>\n",
       "    .dataframe tbody tr th:only-of-type {\n",
       "        vertical-align: middle;\n",
       "    }\n",
       "\n",
       "    .dataframe tbody tr th {\n",
       "        vertical-align: top;\n",
       "    }\n",
       "\n",
       "    .dataframe thead th {\n",
       "        text-align: right;\n",
       "    }\n",
       "</style>\n",
       "<table border=\"1\" class=\"dataframe\">\n",
       "  <thead>\n",
       "    <tr style=\"text-align: right;\">\n",
       "      <th></th>\n",
       "      <th>year</th>\n",
       "      <th>state</th>\n",
       "      <th>month</th>\n",
       "      <th>number</th>\n",
       "      <th>date</th>\n",
       "    </tr>\n",
       "  </thead>\n",
       "  <tbody>\n",
       "    <tr>\n",
       "      <th>0</th>\n",
       "      <td>1998</td>\n",
       "      <td>Acre</td>\n",
       "      <td>Janeiro</td>\n",
       "      <td>0.0</td>\n",
       "      <td>1998-01-01</td>\n",
       "    </tr>\n",
       "    <tr>\n",
       "      <th>1</th>\n",
       "      <td>1999</td>\n",
       "      <td>Acre</td>\n",
       "      <td>Janeiro</td>\n",
       "      <td>0.0</td>\n",
       "      <td>1999-01-01</td>\n",
       "    </tr>\n",
       "    <tr>\n",
       "      <th>2</th>\n",
       "      <td>2000</td>\n",
       "      <td>Acre</td>\n",
       "      <td>Janeiro</td>\n",
       "      <td>0.0</td>\n",
       "      <td>2000-01-01</td>\n",
       "    </tr>\n",
       "    <tr>\n",
       "      <th>3</th>\n",
       "      <td>2001</td>\n",
       "      <td>Acre</td>\n",
       "      <td>Janeiro</td>\n",
       "      <td>0.0</td>\n",
       "      <td>2001-01-01</td>\n",
       "    </tr>\n",
       "    <tr>\n",
       "      <th>4</th>\n",
       "      <td>2002</td>\n",
       "      <td>Acre</td>\n",
       "      <td>Janeiro</td>\n",
       "      <td>0.0</td>\n",
       "      <td>2002-01-01</td>\n",
       "    </tr>\n",
       "  </tbody>\n",
       "</table>\n",
       "</div>"
      ],
      "text/plain": [
       "   year state    month  number        date\n",
       "0  1998  Acre  Janeiro     0.0  1998-01-01\n",
       "1  1999  Acre  Janeiro     0.0  1999-01-01\n",
       "2  2000  Acre  Janeiro     0.0  2000-01-01\n",
       "3  2001  Acre  Janeiro     0.0  2001-01-01\n",
       "4  2002  Acre  Janeiro     0.0  2002-01-01"
      ]
     },
     "execution_count": 6,
     "metadata": {},
     "output_type": "execute_result"
    }
   ],
   "source": [
    "dataset2 = pd.read_csv(r'G:\\My Drive\\1. Pessoal\\Estudos\\Python\\Universidade_Dados\\Pandas\\Pandas_p1\\dataset p1\\amazon.csv', encoding='latin1')\n",
    "dataset2.head()"
   ]
  },
  {
   "cell_type": "code",
   "execution_count": 10,
   "id": "37e6e26d",
   "metadata": {},
   "outputs": [
    {
     "name": "stdout",
     "output_type": "stream",
     "text": [
      "Leitor, o dataset de incêndios florestais possui:\n",
      "6454 linhas;\n",
      "5 colunas.\n"
     ]
    }
   ],
   "source": [
    "n_linhas = dataset2.shape[0]\n",
    "n_colunas = dataset2.shape[1]\n",
    "print(f'Leitor, o dataset de incêndios florestais possui:\\n{n_linhas} linhas;\\n{n_colunas} colunas.')"
   ]
  },
  {
   "cell_type": "markdown",
   "id": "700bf69a",
   "metadata": {},
   "source": [
    "12) Utilize loc e iloc para exibir da linha 100 até a linha 120 da segunda, terceira e quarta coluna. Qual a diferença das duas sintaxes feitas?"
   ]
  },
  {
   "cell_type": "code",
   "execution_count": null,
   "id": "2d491030",
   "metadata": {},
   "outputs": [
    {
     "data": {
      "text/html": [
       "<div>\n",
       "<style scoped>\n",
       "    .dataframe tbody tr th:only-of-type {\n",
       "        vertical-align: middle;\n",
       "    }\n",
       "\n",
       "    .dataframe tbody tr th {\n",
       "        vertical-align: top;\n",
       "    }\n",
       "\n",
       "    .dataframe thead th {\n",
       "        text-align: right;\n",
       "    }\n",
       "</style>\n",
       "<table border=\"1\" class=\"dataframe\">\n",
       "  <thead>\n",
       "    <tr style=\"text-align: right;\">\n",
       "      <th></th>\n",
       "      <th>state</th>\n",
       "      <th>month</th>\n",
       "      <th>number</th>\n",
       "    </tr>\n",
       "  </thead>\n",
       "  <tbody>\n",
       "    <tr>\n",
       "      <th>100</th>\n",
       "      <td>Acre</td>\n",
       "      <td>Junho</td>\n",
       "      <td>3.0</td>\n",
       "    </tr>\n",
       "    <tr>\n",
       "      <th>101</th>\n",
       "      <td>Acre</td>\n",
       "      <td>Junho</td>\n",
       "      <td>0.0</td>\n",
       "    </tr>\n",
       "    <tr>\n",
       "      <th>102</th>\n",
       "      <td>Acre</td>\n",
       "      <td>Junho</td>\n",
       "      <td>1.0</td>\n",
       "    </tr>\n",
       "    <tr>\n",
       "      <th>103</th>\n",
       "      <td>Acre</td>\n",
       "      <td>Junho</td>\n",
       "      <td>1.0</td>\n",
       "    </tr>\n",
       "    <tr>\n",
       "      <th>104</th>\n",
       "      <td>Acre</td>\n",
       "      <td>Junho</td>\n",
       "      <td>0.0</td>\n",
       "    </tr>\n",
       "    <tr>\n",
       "      <th>105</th>\n",
       "      <td>Acre</td>\n",
       "      <td>Junho</td>\n",
       "      <td>0.0</td>\n",
       "    </tr>\n",
       "    <tr>\n",
       "      <th>106</th>\n",
       "      <td>Acre</td>\n",
       "      <td>Junho</td>\n",
       "      <td>5.0</td>\n",
       "    </tr>\n",
       "    <tr>\n",
       "      <th>107</th>\n",
       "      <td>Acre</td>\n",
       "      <td>Junho</td>\n",
       "      <td>27.0</td>\n",
       "    </tr>\n",
       "    <tr>\n",
       "      <th>108</th>\n",
       "      <td>Acre</td>\n",
       "      <td>Junho</td>\n",
       "      <td>1.0</td>\n",
       "    </tr>\n",
       "    <tr>\n",
       "      <th>109</th>\n",
       "      <td>Acre</td>\n",
       "      <td>Junho</td>\n",
       "      <td>4.0</td>\n",
       "    </tr>\n",
       "    <tr>\n",
       "      <th>110</th>\n",
       "      <td>Acre</td>\n",
       "      <td>Junho</td>\n",
       "      <td>0.0</td>\n",
       "    </tr>\n",
       "    <tr>\n",
       "      <th>111</th>\n",
       "      <td>Acre</td>\n",
       "      <td>Junho</td>\n",
       "      <td>0.0</td>\n",
       "    </tr>\n",
       "    <tr>\n",
       "      <th>112</th>\n",
       "      <td>Acre</td>\n",
       "      <td>Junho</td>\n",
       "      <td>1.0</td>\n",
       "    </tr>\n",
       "    <tr>\n",
       "      <th>113</th>\n",
       "      <td>Acre</td>\n",
       "      <td>Junho</td>\n",
       "      <td>10.0</td>\n",
       "    </tr>\n",
       "    <tr>\n",
       "      <th>114</th>\n",
       "      <td>Acre</td>\n",
       "      <td>Junho</td>\n",
       "      <td>7.0</td>\n",
       "    </tr>\n",
       "    <tr>\n",
       "      <th>115</th>\n",
       "      <td>Acre</td>\n",
       "      <td>Junho</td>\n",
       "      <td>8.0</td>\n",
       "    </tr>\n",
       "    <tr>\n",
       "      <th>116</th>\n",
       "      <td>Acre</td>\n",
       "      <td>Junho</td>\n",
       "      <td>17.0</td>\n",
       "    </tr>\n",
       "    <tr>\n",
       "      <th>117</th>\n",
       "      <td>Acre</td>\n",
       "      <td>Junho</td>\n",
       "      <td>40.0</td>\n",
       "    </tr>\n",
       "    <tr>\n",
       "      <th>118</th>\n",
       "      <td>Acre</td>\n",
       "      <td>Junho</td>\n",
       "      <td>87.0</td>\n",
       "    </tr>\n",
       "    <tr>\n",
       "      <th>119</th>\n",
       "      <td>Acre</td>\n",
       "      <td>Junho</td>\n",
       "      <td>45.0</td>\n",
       "    </tr>\n",
       "    <tr>\n",
       "      <th>120</th>\n",
       "      <td>Acre</td>\n",
       "      <td>Julho</td>\n",
       "      <td>37.0</td>\n",
       "    </tr>\n",
       "  </tbody>\n",
       "</table>\n",
       "</div>"
      ],
      "text/plain": [
       "    state  month  number\n",
       "100  Acre  Junho     3.0\n",
       "101  Acre  Junho     0.0\n",
       "102  Acre  Junho     1.0\n",
       "103  Acre  Junho     1.0\n",
       "104  Acre  Junho     0.0\n",
       "105  Acre  Junho     0.0\n",
       "106  Acre  Junho     5.0\n",
       "107  Acre  Junho    27.0\n",
       "108  Acre  Junho     1.0\n",
       "109  Acre  Junho     4.0\n",
       "110  Acre  Junho     0.0\n",
       "111  Acre  Junho     0.0\n",
       "112  Acre  Junho     1.0\n",
       "113  Acre  Junho    10.0\n",
       "114  Acre  Junho     7.0\n",
       "115  Acre  Junho     8.0\n",
       "116  Acre  Junho    17.0\n",
       "117  Acre  Junho    40.0\n",
       "118  Acre  Junho    87.0\n",
       "119  Acre  Junho    45.0\n",
       "120  Acre  Julho    37.0"
      ]
     },
     "execution_count": 38,
     "metadata": {},
     "output_type": "execute_result"
    }
   ],
   "source": [
    "dataset2.iloc[100:121,1:4] # Localizador é o index"
   ]
  },
  {
   "cell_type": "code",
   "execution_count": null,
   "id": "331fba40",
   "metadata": {},
   "outputs": [
    {
     "data": {
      "text/html": [
       "<div>\n",
       "<style scoped>\n",
       "    .dataframe tbody tr th:only-of-type {\n",
       "        vertical-align: middle;\n",
       "    }\n",
       "\n",
       "    .dataframe tbody tr th {\n",
       "        vertical-align: top;\n",
       "    }\n",
       "\n",
       "    .dataframe thead th {\n",
       "        text-align: right;\n",
       "    }\n",
       "</style>\n",
       "<table border=\"1\" class=\"dataframe\">\n",
       "  <thead>\n",
       "    <tr style=\"text-align: right;\">\n",
       "      <th></th>\n",
       "      <th>state</th>\n",
       "      <th>month</th>\n",
       "      <th>number</th>\n",
       "    </tr>\n",
       "  </thead>\n",
       "  <tbody>\n",
       "    <tr>\n",
       "      <th>100</th>\n",
       "      <td>Acre</td>\n",
       "      <td>Junho</td>\n",
       "      <td>3.0</td>\n",
       "    </tr>\n",
       "    <tr>\n",
       "      <th>101</th>\n",
       "      <td>Acre</td>\n",
       "      <td>Junho</td>\n",
       "      <td>0.0</td>\n",
       "    </tr>\n",
       "    <tr>\n",
       "      <th>102</th>\n",
       "      <td>Acre</td>\n",
       "      <td>Junho</td>\n",
       "      <td>1.0</td>\n",
       "    </tr>\n",
       "    <tr>\n",
       "      <th>103</th>\n",
       "      <td>Acre</td>\n",
       "      <td>Junho</td>\n",
       "      <td>1.0</td>\n",
       "    </tr>\n",
       "    <tr>\n",
       "      <th>104</th>\n",
       "      <td>Acre</td>\n",
       "      <td>Junho</td>\n",
       "      <td>0.0</td>\n",
       "    </tr>\n",
       "    <tr>\n",
       "      <th>105</th>\n",
       "      <td>Acre</td>\n",
       "      <td>Junho</td>\n",
       "      <td>0.0</td>\n",
       "    </tr>\n",
       "    <tr>\n",
       "      <th>106</th>\n",
       "      <td>Acre</td>\n",
       "      <td>Junho</td>\n",
       "      <td>5.0</td>\n",
       "    </tr>\n",
       "    <tr>\n",
       "      <th>107</th>\n",
       "      <td>Acre</td>\n",
       "      <td>Junho</td>\n",
       "      <td>27.0</td>\n",
       "    </tr>\n",
       "    <tr>\n",
       "      <th>108</th>\n",
       "      <td>Acre</td>\n",
       "      <td>Junho</td>\n",
       "      <td>1.0</td>\n",
       "    </tr>\n",
       "    <tr>\n",
       "      <th>109</th>\n",
       "      <td>Acre</td>\n",
       "      <td>Junho</td>\n",
       "      <td>4.0</td>\n",
       "    </tr>\n",
       "    <tr>\n",
       "      <th>110</th>\n",
       "      <td>Acre</td>\n",
       "      <td>Junho</td>\n",
       "      <td>0.0</td>\n",
       "    </tr>\n",
       "    <tr>\n",
       "      <th>111</th>\n",
       "      <td>Acre</td>\n",
       "      <td>Junho</td>\n",
       "      <td>0.0</td>\n",
       "    </tr>\n",
       "    <tr>\n",
       "      <th>112</th>\n",
       "      <td>Acre</td>\n",
       "      <td>Junho</td>\n",
       "      <td>1.0</td>\n",
       "    </tr>\n",
       "    <tr>\n",
       "      <th>113</th>\n",
       "      <td>Acre</td>\n",
       "      <td>Junho</td>\n",
       "      <td>10.0</td>\n",
       "    </tr>\n",
       "    <tr>\n",
       "      <th>114</th>\n",
       "      <td>Acre</td>\n",
       "      <td>Junho</td>\n",
       "      <td>7.0</td>\n",
       "    </tr>\n",
       "    <tr>\n",
       "      <th>115</th>\n",
       "      <td>Acre</td>\n",
       "      <td>Junho</td>\n",
       "      <td>8.0</td>\n",
       "    </tr>\n",
       "    <tr>\n",
       "      <th>116</th>\n",
       "      <td>Acre</td>\n",
       "      <td>Junho</td>\n",
       "      <td>17.0</td>\n",
       "    </tr>\n",
       "    <tr>\n",
       "      <th>117</th>\n",
       "      <td>Acre</td>\n",
       "      <td>Junho</td>\n",
       "      <td>40.0</td>\n",
       "    </tr>\n",
       "    <tr>\n",
       "      <th>118</th>\n",
       "      <td>Acre</td>\n",
       "      <td>Junho</td>\n",
       "      <td>87.0</td>\n",
       "    </tr>\n",
       "    <tr>\n",
       "      <th>119</th>\n",
       "      <td>Acre</td>\n",
       "      <td>Junho</td>\n",
       "      <td>45.0</td>\n",
       "    </tr>\n",
       "    <tr>\n",
       "      <th>120</th>\n",
       "      <td>Acre</td>\n",
       "      <td>Julho</td>\n",
       "      <td>37.0</td>\n",
       "    </tr>\n",
       "    <tr>\n",
       "      <th>121</th>\n",
       "      <td>Acre</td>\n",
       "      <td>Julho</td>\n",
       "      <td>1.0</td>\n",
       "    </tr>\n",
       "  </tbody>\n",
       "</table>\n",
       "</div>"
      ],
      "text/plain": [
       "    state  month  number\n",
       "100  Acre  Junho     3.0\n",
       "101  Acre  Junho     0.0\n",
       "102  Acre  Junho     1.0\n",
       "103  Acre  Junho     1.0\n",
       "104  Acre  Junho     0.0\n",
       "105  Acre  Junho     0.0\n",
       "106  Acre  Junho     5.0\n",
       "107  Acre  Junho    27.0\n",
       "108  Acre  Junho     1.0\n",
       "109  Acre  Junho     4.0\n",
       "110  Acre  Junho     0.0\n",
       "111  Acre  Junho     0.0\n",
       "112  Acre  Junho     1.0\n",
       "113  Acre  Junho    10.0\n",
       "114  Acre  Junho     7.0\n",
       "115  Acre  Junho     8.0\n",
       "116  Acre  Junho    17.0\n",
       "117  Acre  Junho    40.0\n",
       "118  Acre  Junho    87.0\n",
       "119  Acre  Junho    45.0\n",
       "120  Acre  Julho    37.0\n",
       "121  Acre  Julho     1.0"
      ]
     },
     "execution_count": 11,
     "metadata": {},
     "output_type": "execute_result"
    }
   ],
   "source": [
    "dataset2.loc[100:121,['state', 'month', 'number']] # Localizador é o nome das coluna"
   ]
  },
  {
   "cell_type": "markdown",
   "id": "7e200f19",
   "metadata": {},
   "source": [
    "13) Qual o total de incêndios que ocorreram no Brasil no ano de 2010?"
   ]
  },
  {
   "cell_type": "code",
   "execution_count": 63,
   "id": "7fe2e3ec",
   "metadata": {},
   "outputs": [
    {
     "name": "stdout",
     "output_type": "stream",
     "text": [
      "Total de incêndios no Brasil: 698.924,07\n"
     ]
    }
   ],
   "source": [
    "total_incendios = dataset2['number'].sum()\n",
    "n_formatado = f'{total_incendios:,.2f}'.replace(',','x').replace('.',',').replace('x','.')\n",
    "print(f'Total de incêndios no Brasil: {n_formatado}')"
   ]
  },
  {
   "cell_type": "markdown",
   "id": "b40171da",
   "metadata": {},
   "source": [
    "14) Qual a média de incêndios por mês no estado do Acre? E o desvio padrão?"
   ]
  },
  {
   "cell_type": "code",
   "execution_count": null,
   "id": "d95e09fc",
   "metadata": {},
   "outputs": [
    {
     "name": "stdout",
     "output_type": "stream",
     "text": [
      "Média de incêndios por mês no Acre: \n",
      "month\n",
      "Abril         52.201426\n",
      "Agosto       163.056361\n",
      "Dezembro     112.154932\n",
      "Fevereiro     57.126019\n",
      "Janeiro       88.258492\n",
      "Julho        170.974283\n",
      "Junho        103.723472\n",
      "Maio          64.317339\n",
      "Março         56.884083\n",
      "Novembro     158.348248\n",
      "Outubro      164.225146\n",
      "Setembro     108.478343\n",
      "Name: number, dtype: float64\n",
      "O desvio padrão de incêndios por mês no Acre:\n",
      "month\n",
      "Abril        107.679833\n",
      "Agosto       280.869887\n",
      "Dezembro     164.171141\n",
      "Fevereiro    102.932132\n",
      "Janeiro      135.499845\n",
      "Julho        252.095117\n",
      "Junho        176.695510\n",
      "Maio         133.846670\n",
      "Março        108.978904\n",
      "Novembro     213.809177\n",
      "Outubro      240.341376\n",
      "Setembro     198.489059\n",
      "Name: number, dtype: float64\n"
     ]
    }
   ],
   "source": [
    "acre = dataset2['state'] == 'Acre' # Definindo o Estado\n",
    "media = dataset2.groupby('month')['number'].mean()\n",
    "desvio = dataset2.groupby('month')['number'].std()\n",
    "\n",
    "print(f'Média de incêndios por mês no Acre: \\n{media}\\nO desvio padrão de incêndios por mês no Acre:\\n{desvio}')"
   ]
  },
  {
   "cell_type": "markdown",
   "id": "504cab96",
   "metadata": {},
   "source": [
    "15) Qual estado possui a maior média de incêndios por mês? E qual possui a menor?"
   ]
  },
  {
   "cell_type": "code",
   "execution_count": 84,
   "id": "3fb62460",
   "metadata": {},
   "outputs": [
    {
     "name": "stdout",
     "output_type": "stream",
     "text": [
      "O estado com MAIOR MÉDIA de incêndios por mês é: Sao Paulo (213.90 incêndios/mês)\n",
      "O estado com MENOR MÉDIA de incêndios por mês é: Sergipe (13.54 incêndios/mês)\n"
     ]
    }
   ],
   "source": [
    "import pandas as pd\n",
    "\n",
    "# Suponha que o DataFrame já esteja carregado como dataset2\n",
    "media_por_estado = dataset2.groupby('state')['number'].mean()\n",
    "\n",
    "estado_maior_media = media_por_estado.idxmax()\n",
    "valor_maior_media = media_por_estado.max()\n",
    "\n",
    "estado_menor_media = media_por_estado.idxmin()\n",
    "valor_menor_media = media_por_estado.min()\n",
    "\n",
    "print(f\"O estado com MAIOR MÉDIA de incêndios por mês é: {estado_maior_media} ({valor_maior_media:.2f} incêndios/mês)\")\n",
    "print(f\"O estado com MENOR MÉDIA de incêndios por mês é: {estado_menor_media} ({valor_menor_media:.2f} incêndios/mês)\")\n"
   ]
  },
  {
   "cell_type": "markdown",
   "id": "4ca3cdcc",
   "metadata": {},
   "source": [
    "16) Crie uma coluna chamada regiao_sudeste e marque com 1 para quando a observação pertencer a um destes estados e 0, caso contrário. Faça o mesmo para a região centro-oeste. Qual a diferença no total de incêndios dessas regiões? Qual região possui mais incêndios? Consulte a internet para entender por qual motivo uma das regiões possui mais incêndio que a outra."
   ]
  },
  {
   "cell_type": "code",
   "execution_count": 87,
   "id": "5008404e",
   "metadata": {},
   "outputs": [
    {
     "name": "stdout",
     "output_type": "stream",
     "text": [
      "Total incêndios Sudeste: 37,475\n",
      "Total incêndios Centro‑Oeste: 99,807\n",
      "Diferença (Sudeste − Centro‑Oeste): -62,332\n",
      "Região com mais incêndios: Centro‑Oeste\n"
     ]
    }
   ],
   "source": [
    "sudeste = ['São Paulo','Rio de Janeiro','Minas Gerais','Espírito Santo']\n",
    "centro_oeste = ['Goiás','Mato Grosso','Mato Grosso do Sul','Distrito Federal']\n",
    "\n",
    "dataset2['regiao_sudeste'] = dataset2['state'].isin(sudeste).astype(int)\n",
    "dataset2['regiao_centro_oeste'] = dataset2['state'].isin(centro_oeste).astype(int)\n",
    "\n",
    "\n",
    "tot_sudeste = dataset2.loc[dataset2['regiao_sudeste'] == 1, 'number'].sum()\n",
    "tot_centro_oeste = dataset2.loc[dataset2['regiao_centro_oeste'] == 1, 'number'].sum()\n",
    "\n",
    "print(f\"Total incêndios Sudeste: {tot_sudeste:,.0f}\")\n",
    "print(f\"Total incêndios Centro‑Oeste: {tot_centro_oeste:,.0f}\")\n",
    "\n",
    "diff = tot_sudeste - tot_centro_oeste\n",
    "print(f\"Diferença (Sudeste − Centro‑Oeste): {diff:,.0f}\")\n",
    "\n",
    "mais = \"Sudeste\" if tot_sudeste > tot_centro_oeste else \"Centro‑Oeste\"\n",
    "print(f\"Região com mais incêndios: {mais}\")\n"
   ]
  }
 ],
 "metadata": {
  "kernelspec": {
   "display_name": "Python 3",
   "language": "python",
   "name": "python3"
  },
  "language_info": {
   "codemirror_mode": {
    "name": "ipython",
    "version": 3
   },
   "file_extension": ".py",
   "mimetype": "text/x-python",
   "name": "python",
   "nbconvert_exporter": "python",
   "pygments_lexer": "ipython3",
   "version": "3.13.5"
  }
 },
 "nbformat": 4,
 "nbformat_minor": 5
}
